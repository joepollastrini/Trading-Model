{
 "cells": [
  {
   "cell_type": "code",
   "execution_count": 1,
   "metadata": {},
   "outputs": [],
   "source": [
    "import os\n",
    "import random\n",
    "import csv\n",
    "import datetime"
   ]
  },
  {
   "cell_type": "markdown",
   "metadata": {},
   "source": [
    "***\n",
    "Gets ****a random ticker**** from data CSVs located in the path\n",
    "- path: (str) file path of the data directory\n",
    "- return: (str) the ticker symbol"
   ]
  },
  {
   "cell_type": "code",
   "execution_count": 2,
   "metadata": {},
   "outputs": [],
   "source": [
    "def randomTicker(path):\n",
    "    #get all files in directory\n",
    "    #extract name of files\n",
    "    files = os.listdir(path)\n",
    "    tickers = []\n",
    "    for f in files:\n",
    "        if '.csv' in f:\n",
    "            ticker = f.split('.')[0]\n",
    "            tickers.append(ticker)\n",
    "    #get random file\n",
    "    T = random.choice(tickers)\n",
    "    return T"
   ]
  },
  {
   "cell_type": "markdown",
   "metadata": {},
   "source": [
    "***\n",
    "Gets ****a list**** of tickers from data CSVs located in the path\n",
    "- path: (str) file path of the data directory\n",
    "- return: (list) contains all the tickers"
   ]
  },
  {
   "cell_type": "code",
   "execution_count": 3,
   "metadata": {},
   "outputs": [],
   "source": [
    "def allTickers(path):\n",
    "    #get all files in directory\n",
    "    #extract name of files\n",
    "    files = os.listdir(path)\n",
    "    tickers = []\n",
    "    for f in files:\n",
    "        if '.csv' in f:\n",
    "            ticker = f.split('.')[0]\n",
    "            tickers.append(ticker)\n",
    "    return tickers"
   ]
  },
  {
   "cell_type": "markdown",
   "metadata": {},
   "source": [
    "***\n",
    "Gets two dates to run back test for\n",
    "- path: (str) file path of the data directory\n",
    "- t: (str) the ticker symbol (from randomTicker function)\n",
    "- fmt: (str) the format of dates in CSV files\n",
    "- minDays: (int) minimum number of days required for backtesting\n",
    "- maxDays: (int) maximum number of days required for backtesting\n",
    "- return:\n",
    "    1. (datetime obj) the date to start backtesting\n",
    "    2. (datetime obj) the date to end backtesting\n",
    "    3. (int) the number of days between start and end dates"
   ]
  },
  {
   "cell_type": "code",
   "execution_count": 4,
   "metadata": {},
   "outputs": [],
   "source": [
    "def twoDates(path, t, fmt, minDays=365, maxDays=2500):\n",
    "    file = os.path.join(path, t+'.csv')\n",
    "    #iterate through csv and get every date from column 0\n",
    "    datelist = []\n",
    "    with open(file, 'r') as f:\n",
    "        reader = csv.reader(f)\n",
    "        for r in reader:\n",
    "            datelist.append(r[0])\n",
    "    #get first and last date from file\n",
    "    stDateSt = datelist[1]\n",
    "    lstDateSt = datelist[-1]\n",
    "    #convert to datetime objects\n",
    "    stDate = datetime.datetime.strptime(stDateSt, fmt)\n",
    "    lstDate = datetime.datetime.strptime(lstDateSt, fmt)\n",
    "    #get random date to start and end\n",
    "    daysBetween = lstDate - stDate\n",
    "    rand1 = 0\n",
    "    rand2 = 0\n",
    "    while abs(rand1-rand2) < minDays or abs(rand1-rand2) > maxDays:  #ensure at least a year of backtesting\n",
    "        rand1 = random.randrange(int(daysBetween.days))\n",
    "        rand2 = random.randrange(int(daysBetween.days))\n",
    "    #get date range (datetime objects)\n",
    "    startDate = stDate + datetime.timedelta(days = min(rand1, rand2))\n",
    "    endDate = stDate + datetime.timedelta(days = max(rand1, rand2))\n",
    "    intervalLen = endDate - startDate\n",
    "    return startDate, endDate, intervalLen.days"
   ]
  },
  {
   "cell_type": "markdown",
   "metadata": {},
   "source": [
    "***\n",
    "Runs the randomization (randomTicker) (skips if a ticker is specified)\n",
    "* path: (str) file path of the data directory\n",
    "* d: (dict) contains datetime formats\n",
    "* iterator: (str) the datetime format key\n",
    "* t (*opt*): (str) the ticker symbol\n",
    "* minDays (*opt*): minimum number of days required for backtesting\n",
    "* maxDays *(opt)*: maximum number of days required for backtesting\n",
    "* return:\n",
    "    1. (str) the ticker symbol\n",
    "    2. (datetime obj) the date to start backtesting\n",
    "    3. (datetime obj) the date to end backtesting\n",
    "    4. (str) date format\n",
    "    5. (int) the number of days between start and end dates"
   ]
  },
  {
   "cell_type": "code",
   "execution_count": 5,
   "metadata": {},
   "outputs": [],
   "source": [
    "def main(path, d, iterator, t=None, minDays=365, maxDays=1500):\n",
    "    if t == None:\n",
    "        ticker = randomTicker(path)\n",
    "    else:\n",
    "        #make sure ticker is in data\n",
    "        checkPath = os.path.join(path, t+'.csv')\n",
    "        if os.path.exists(checkPath):\n",
    "            ticker = t\n",
    "        else:\n",
    "            print(\"No data found for {} in {}\".format(t, path))\n",
    "            ticker = randomTicker(path)\n",
    "    fmt = d[iterator]\n",
    "    start, end, days = twoDates(path, ticker, fmt, minDays, maxDays)\n",
    "    return ticker, start, end, fmt, days"
   ]
  }
 ],
 "metadata": {
  "kernelspec": {
   "display_name": "Python 3",
   "language": "python",
   "name": "python3"
  },
  "language_info": {
   "codemirror_mode": {
    "name": "ipython",
    "version": 3
   },
   "file_extension": ".py",
   "mimetype": "text/x-python",
   "name": "python",
   "nbconvert_exporter": "python",
   "pygments_lexer": "ipython3",
   "version": "3.7.4"
  }
 },
 "nbformat": 4,
 "nbformat_minor": 2
}
