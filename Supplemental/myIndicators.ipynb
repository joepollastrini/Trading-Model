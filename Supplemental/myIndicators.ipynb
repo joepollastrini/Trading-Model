{
 "cells": [
  {
   "cell_type": "markdown",
   "metadata": {},
   "source": [
    "# Holds custom indicators"
   ]
  },
  {
   "cell_type": "code",
   "execution_count": 4,
   "metadata": {},
   "outputs": [],
   "source": [
    "import backtrader as bt"
   ]
  },
  {
   "cell_type": "markdown",
   "metadata": {},
   "source": [
    "***\n",
    "Moneyflow"
   ]
  },
  {
   "cell_type": "code",
   "execution_count": 6,
   "metadata": {},
   "outputs": [],
   "source": [
    "class MoneyFlow(bt.Indicator):\n",
    "    lines = ('mfi',)\n",
    "    params = dict(period=14)\n",
    "\n",
    "    alias = ('MoneyFlowIndicator',)\n",
    "\n",
    "    def __init__(self):\n",
    "        tprice = (self.data.close + self.data.low + self.data.high) / 3.0\n",
    "        mfraw = tprice * self.data.volume\n",
    "\n",
    "        flowpos = bt.ind.SumN(mfraw * (tprice > tprice(-1)), period=self.p.period)\n",
    "        flowneg = bt.ind.SumN(mfraw * (tprice < tprice(-1)), period=self.p.period)\n",
    "\n",
    "        mfiratio = bt.ind.DivByZero(flowpos, flowneg, zero=100.0)\n",
    "        self.l.mfi = 100.0 - 100.0 / (1.0 + mfiratio)"
   ]
  },
  {
   "cell_type": "markdown",
   "metadata": {},
   "source": [
    "***\n",
    "Chaikin Money Flow"
   ]
  },
  {
   "cell_type": "code",
   "execution_count": 7,
   "metadata": {},
   "outputs": [],
   "source": [
    "class ChaikinMoneyFlow(bt.Indicator):\n",
    "    lines = ('mfi',)\n",
    "    params = (\n",
    "        ('period', 20),\n",
    "        )\n",
    "\n",
    "    plotlines = dict(\n",
    "        money_flow=dict(\n",
    "            _name='CMF',\n",
    "            color='green',\n",
    "            alpha=0.50\n",
    "        )\n",
    "    )\n",
    "\n",
    "    def __init__(self):\n",
    "        # Let the indicator get enough data\n",
    "        self.addminperiod(self.p.period)\n",
    "\n",
    "        # Plot horizontal Line\n",
    "        self.plotinfo.plotyhlines = [0]\n",
    "\n",
    "        # Aliases to avoid long lines\n",
    "        c = self.data.close\n",
    "        h = self.data.high\n",
    "        l = self.data.low\n",
    "        v = self.data.volume\n",
    "        \n",
    "        self.data.ad = bt.If(bt.Or(bt.And(c == h, c == l), h == l), 0, ((2*c-l-h)/(h-l))*v)\n",
    "        self.lines.mfi = bt.indicators.SumN(self.data.ad, period=self.p.period) / bt.indicators.SumN(self.data.volume, period=self.p.period)"
   ]
  },
  {
   "cell_type": "markdown",
   "metadata": {},
   "source": [
    "***\n",
    "Percent Away"
   ]
  },
  {
   "cell_type": "code",
   "execution_count": 8,
   "metadata": {},
   "outputs": [],
   "source": [
    "class percAway(bt.Indicator):\n",
    "    lines = ('perc',)\n",
    "\n",
    "    params = dict(\n",
    "        sma = 1\n",
    "        ,close = 1\n",
    "        )\n",
    "\n",
    "    plotlines = dict(\n",
    "        percAway = dict(\n",
    "            _name='Percent Away'\n",
    "            ,color = 'black'\n",
    "            ))\n",
    "\n",
    "    def __init__(self):\n",
    "        perc = (self.p.close/self.p.sma) - 1.0\n",
    "        self.lines.perc = perc"
   ]
  },
  {
   "cell_type": "markdown",
   "metadata": {},
   "source": [
    "***\n",
    "On Balance Volume"
   ]
  },
  {
   "cell_type": "code",
   "execution_count": 12,
   "metadata": {},
   "outputs": [],
   "source": [
    "class OBV(bt.Indicator):\n",
    "    lines = ('obv',)\n",
    "    params = (\n",
    "      ('length', 12),\n",
    "    )\n",
    "\n",
    "    plotlines = dict(\n",
    "        obv=dict(\n",
    "            _name='OBV',\n",
    "            color='purple',\n",
    "            alpha=0.50\n",
    "        )\n",
    "    )\n",
    "\n",
    "    def __init__(self):\n",
    "\n",
    "        # Plot a horizontal Line\n",
    "        self.plotinfo.plotyhlines = [0]\n",
    "            \n",
    "\n",
    "    def nextstart(self):\n",
    "        # Create some aliases\n",
    "        c = self.data.close\n",
    "        v = self.data.volume\n",
    "        obv = self.lines.obv\n",
    "\n",
    "        if c[0] > c[-1]:\n",
    "            obv[0] = v[0]\n",
    "        elif c[0] < c[-1]: \n",
    "            obv[0] = -v[0] \n",
    "        else: \n",
    "            obv[0] = 0 \n",
    "                \n",
    "    def next(self): \n",
    "        # Aliases to avoid long lines \n",
    "        c = self.data.close \n",
    "        v = self.data.volume \n",
    "        obv = self.lines.obv \n",
    "        \n",
    "        if c[0] > c[-1]:\n",
    "            obv[0] = obv[-1] + v[0]\n",
    "        elif c[0] < c[-1]:\n",
    "            obv[0] = obv[-1] - v[0]\n",
    "        else:\n",
    "            obv[0] = obv[-1]          "
   ]
  },
  {
   "cell_type": "code",
   "execution_count": null,
   "metadata": {},
   "outputs": [],
   "source": []
  }
 ],
 "metadata": {
  "kernelspec": {
   "display_name": "Python 3",
   "language": "python",
   "name": "python3"
  },
  "language_info": {
   "codemirror_mode": {
    "name": "ipython",
    "version": 3
   },
   "file_extension": ".py",
   "mimetype": "text/x-python",
   "name": "python",
   "nbconvert_exporter": "python",
   "pygments_lexer": "ipython3",
   "version": "3.7.4"
  }
 },
 "nbformat": 4,
 "nbformat_minor": 2
}
